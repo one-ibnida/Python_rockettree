{
 "cells": [
  {
   "cell_type": "code",
   "execution_count": 1,
   "id": "6e0ee2b0",
   "metadata": {},
   "outputs": [
    {
     "name": "stdout",
     "output_type": "stream",
     "text": [
      "6400\n"
     ]
    }
   ],
   "source": [
    "#1. Copy the image below to your favorite folder with a name of your choice. \n",
    "#Find the area of the triangle with Python.\n",
    "\n",
    "from PIL import Image\n",
    "import math\n",
    "img_1=Image.open('0922_01.png')\n",
    "count=0\n",
    "for column in range(img_1.size[0]):\n",
    "    for row in range(img_1.size[1]):\n",
    "        pix=img_1.getpixel((column,row))\n",
    "\n",
    "        if pix[0]!=0:\n",
    "            count+=1\n",
    "print(count)"
   ]
  },
  {
   "cell_type": "code",
   "execution_count": 4,
   "id": "c459cb14",
   "metadata": {},
   "outputs": [
    {
     "name": "stdout",
     "output_type": "stream",
     "text": [
      "[1, 2, 4, 181, 362, 724]\n"
     ]
    }
   ],
   "source": [
    "#2. Factors are whole numbers that are multiplied together to produce another number. If a × b = c then a and b are factors of c. Both a and b divide into c with no remainder.\n",
    "#For example, factors of 868 are [1, 2, 4, 7, 14, 28, 31, 62, 124, 217, 434, 868].\n",
    "#Find the list of factors for 724.\n",
    "\n",
    "factors=[]\n",
    "for i in range(1,725):\n",
    "    if 724%i==0:\n",
    "        factors.append(i)\n",
    "        \n",
    "print(factors)\n",
    "\n"
   ]
  },
  {
   "cell_type": "code",
   "execution_count": 8,
   "id": "32f6a4e2",
   "metadata": {},
   "outputs": [
    {
     "name": "stdout",
     "output_type": "stream",
     "text": [
      "180\n"
     ]
    }
   ],
   "source": [
    "#3. Copy the image below to your favorite folder with a name of your choice. \n",
    "#Find the height of the triangle with Python.\n",
    "\n",
    "img=Image.open('0922_03.png')\n",
    "axis_y=0\n",
    "count_y=0\n",
    "\n",
    "for column in range(img.size[0]):\n",
    "    for row in range(img.size[1]):\n",
    "        if img.getpixel((column, row)) != (0, 0, 0, 0):\n",
    "            count_y+=1\n",
    "    if axis_y<count_y:\n",
    "        axis_y=count_y\n",
    "    count_y=0\n",
    "    \n",
    "print(axis_y)"
   ]
  },
  {
   "cell_type": "code",
   "execution_count": 7,
   "id": "9b5b0adc",
   "metadata": {},
   "outputs": [
    {
     "name": "stdout",
     "output_type": "stream",
     "text": [
      "0.6 152.51047116980246\n"
     ]
    }
   ],
   "source": [
    "#4. Copy the image below to your favorite folder with a name of your choice.\n",
    "#Find the best slope and y-intercept for the data shown in the graph with the library PIL and Python. \n",
    "#Round your answers to 2 decimal places and place them in a tuple.\n",
    "\n",
    "img_4=Image.open('0922_04.png')\n",
    "black=[]\n",
    "colors=[]\n",
    "red_dot=[]\n",
    "for column in range(img_4.size[0]):\n",
    "    for row in range(img_4.size[1]):\n",
    "        dots=img_4.getpixel((column,row))\n",
    "        if dots[0]==255 and dots[0]!=dots[1]:\n",
    "            red_dot.append((column,row))\n",
    "x_avg=0\n",
    "y_avg=0\n",
    "x_sum=0\n",
    "y_sum=0\n",
    "upper=0\n",
    "lower=0\n",
    "for i in red_dot:\n",
    "    x_sum+=i[0]\n",
    "    y_sum+=i[1]\n",
    "x_avg=x_sum/len(red_dot)\n",
    "y_avg=y_sum/len(red_dot)\n",
    "for i in red_dot:\n",
    "    upper+=(i[0]-x_avg)*-(i[1]-y_avg)\n",
    "    lower+=math.pow((i[0]-x_avg),2)\n",
    "slope=upper/lower\n",
    "\n",
    "y_bar=y_avg-slope*x_avg\n",
    "\n",
    "print(round(slope,2), y_bar)"
   ]
  },
  {
   "cell_type": "code",
   "execution_count": 8,
   "id": "71307d4c",
   "metadata": {},
   "outputs": [
    {
     "name": "stdout",
     "output_type": "stream",
     "text": [
      "6\n"
     ]
    }
   ],
   "source": [
    "#5. Make the list 100 times longer by multiplying 100 to the list provided in the data below.\n",
    "#Make a new list consisting of items at even indices of the long list above. \n",
    "#Then make another list consisting of items at odd indices of the previous list. \n",
    "#Repeat the previous procedure three more times. Return the number of items in the final list.\n",
    "\n",
    "data=[87,101,68,53,55,82,89,49,75,57,114,103,108,80,98]\n",
    "\n",
    "data*=100\n",
    "for i in range(4):\n",
    "    data=data[::2]\n",
    "    data=data[1::2]\n",
    "    \n",
    "print(len(data))\n",
    "\n"
   ]
  },
  {
   "cell_type": "code",
   "execution_count": 9,
   "id": "e8f68f92",
   "metadata": {},
   "outputs": [
    {
     "name": "stdout",
     "output_type": "stream",
     "text": [
      "9\n"
     ]
    }
   ],
   "source": [
    "#6. Extend the list of [66, 105, 103, 32, 65, 112, 112, 108, 101] to the end of the list provided in the data below. \n",
    "#Multiply 100 to the list to make a long list. \n",
    "#xtract the items at even indices from the long list to make a new list. \n",
    "#Then make another list consisting of items at odd indices of the previous list. \n",
    "#Repeat the previous procedure three more times. Return the number of items in the final list.\n",
    "\n",
    "data=[81, 48, 88, 70, 75, 111, 73, 67, 89, 117, 106, 56, 50, 114, 69]\n",
    "\n",
    "ex_data= [66, 105, 103, 32, 65, 112, 112, 108, 101]\n",
    "data.extend(ex_data)\n",
    "data*=100\n",
    "for i in range(4):\n",
    "    data=data[::2]\n",
    "    data=data[1::2]\n",
    "print(len(data))"
   ]
  },
  {
   "cell_type": "code",
   "execution_count": 11,
   "id": "fddd7ed8",
   "metadata": {},
   "outputs": [
    {
     "name": "stdout",
     "output_type": "stream",
     "text": [
      "120\n"
     ]
    }
   ],
   "source": [
    "#7. Copy the image below to your favorite folder with a name of your choice.\n",
    "#Find the intensity of blue in the colored rectangle with Python.\n",
    "\n",
    "img_7=Image.open('0922_07.png')\n",
    "colors=[]\n",
    "for column in range(img_7.size[0]):\n",
    "    for row in range(img_7.size[1]):\n",
    "        if img_7.getpixel((column,row)) != (0,0,0,0):\n",
    "            if img_7.getpixel((column,row))[2] not in colors:\n",
    "                colors.append(img_7.getpixel((column,row))[2])\n",
    "                \n",
    "print(colors[0])"
   ]
  },
  {
   "cell_type": "code",
   "execution_count": 5,
   "id": "7680d307",
   "metadata": {},
   "outputs": [
    {
     "name": "stdout",
     "output_type": "stream",
     "text": [
      "(176, 83, 229, 255)\n"
     ]
    }
   ],
   "source": [
    "#8. Copy the image below to your favorite folder with a name of your choice. \n",
    "#Find the color, Ex. (111, 133, 25), of the larger rectangle with Python.\n",
    "\n",
    "from PIL import Image\n",
    "img_8=Image.open('0922_08.png')\n",
    "\n",
    "brown = (172, 106, 109, 255)\n",
    "purple = (176, 83, 229, 255)\n",
    "b_count= 0\n",
    "p_count= 0\n",
    "for column in range(img_8.size[0]):\n",
    "    for row in range(img_8.size[1]):\n",
    "        pix=img_8.getpixel((column,row))\n",
    "        if pix == (172,106,109,255):\n",
    "            b_count +=1\n",
    "        elif pix == (176,83,229,255):\n",
    "            p_count +=1\n",
    "            \n",
    "if b_count > p_count :\n",
    "    print(brown)\n",
    "elif p_count> b_count:\n",
    "    print(purple)\n",
    "else:\n",
    "    print(\"크기같음\")"
   ]
  },
  {
   "cell_type": "code",
   "execution_count": 6,
   "id": "264ef4da",
   "metadata": {
    "scrolled": true
   },
   "outputs": [
    {
     "name": "stdout",
     "output_type": "stream",
     "text": [
      "30\n"
     ]
    }
   ],
   "source": [
    "#9. Copy the image below to your favorite folder with a name of your choice.\n",
    "#Find the number of different colors used in the image with the library PIL and Python.\n",
    "\n",
    "img_9=Image.open('0922_09.png')\n",
    "colors=img_9.getcolors()\n",
    "\n",
    "print(len(colors))"
   ]
  },
  {
   "cell_type": "code",
   "execution_count": 9,
   "id": "ec9b6564",
   "metadata": {},
   "outputs": [
    {
     "name": "stdout",
     "output_type": "stream",
     "text": [
      "4560\n"
     ]
    }
   ],
   "source": [
    "#10. Copy the image below to your favorite folder with a name of your choice. \n",
    "#Find the area of the triangle with Python.\n",
    "\n",
    "img_10=Image.open('0922_10.png')\n",
    "count=0\n",
    "for column in range(img_10.size[0]):\n",
    "    for row in range(img_10.size[1]):\n",
    "        pix=img_10.getpixel((column,row))\n",
    "\n",
    "        if pix[0]!=0:\n",
    "            count+=1\n",
    "print(count)"
   ]
  }
 ],
 "metadata": {
  "kernelspec": {
   "display_name": "Python 3",
   "language": "python",
   "name": "python3"
  },
  "language_info": {
   "codemirror_mode": {
    "name": "ipython",
    "version": 3
   },
   "file_extension": ".py",
   "mimetype": "text/x-python",
   "name": "python",
   "nbconvert_exporter": "python",
   "pygments_lexer": "ipython3",
   "version": "3.8.8"
  }
 },
 "nbformat": 4,
 "nbformat_minor": 5
}
