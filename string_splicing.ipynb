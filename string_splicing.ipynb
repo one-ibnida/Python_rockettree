{
 "cells": [
  {
   "cell_type": "code",
   "execution_count": 1,
   "id": "7b9295aa",
   "metadata": {},
   "outputs": [
    {
     "name": "stdout",
     "output_type": "stream",
     "text": [
      "i\n"
     ]
    }
   ],
   "source": [
    "# 1. Concatenate the strings \"is fuN\" and \"Python\" and multiply 18 to the previous string to make a long string. \n",
    "# Make a new string consisting of only characters that locates at even indices of the long string.\n",
    "# Find the 18-th character. Do not forget that whitespace is also a character.\n",
    "\n",
    "str_1=\"is fuN\"\n",
    "str_2=\"Python\"\n",
    "str=(str_1+str_2)*18\n",
    "new_str=\"\"\n",
    "for i in range(len(str)):\n",
    "    if i%2==0:\n",
    "        new_str+=str[i]\n",
    "print(new_str[18])"
   ]
  },
  {
   "cell_type": "code",
   "execution_count": 24,
   "id": "3764decf",
   "metadata": {},
   "outputs": [
    {
     "name": "stdout",
     "output_type": "stream",
     "text": [
      "None\n"
     ]
    }
   ],
   "source": [
    "# 2. Concatenate the strings \"Is fun\" and \"Python\" and multiply 19 to the previous string to make a long string. \n",
    "# Make a new string consisting of only characters that locates at even indices of the long string.\n",
    "# Check if the 19-th character is lowercase, answer True if it is lowercase, False otherwise.\n",
    "# Do not forget that whitespace is also a character that is neither uppercase nor lowercase.\n",
    "\n",
    "str=(\"Is fun\"+\"Python\")*19\n",
    "str=str[::2]\n",
    "if str[19].islower():\n",
    "    print(True)\n",
    "elif str[19].isupper():\n",
    "    print(False)\n",
    "else:\n",
    "    print(None)"
   ]
  },
  {
   "cell_type": "code",
   "execution_count": 5,
   "id": "342ffc7a",
   "metadata": {},
   "outputs": [
    {
     "data": {
      "text/plain": [
       "' room, which was almost exactly the same as it had been on the night when Mr. Dursley had seen that fateful news report about the owls. Only the photographs on the mantelpiece really showed how much time had passed. Ten years ago, there had been lots of pictures of what look'"
      ]
     },
     "execution_count": 5,
     "metadata": {},
     "output_type": "execute_result"
    }
   ],
   "source": [
    "# 3. Find the number of words in the substring of 275 characters that begins at the 275-th character (index of 275) from the string below.\n",
    "# data:\n",
    "# Nearly ten years had passed since the Dursleys had woken up to find their nephew on the front step, but Privet Drive had hardly changed at all. The sun rose on the same tidy front gardens and lit up the brass number four on the Dursleys front door; it crept into their living room, which was almost exactly the same as it had been on the night when Mr. Dursley had seen that fateful news report about the owls. Only the photographs on the mantelpiece really showed how much time had passed. Ten years ago, there had been lots of pictures of what looked like a large pink beach ball wearing different-colored bonnets -- but Dudley Dursley was no longer a baby, and now the photographs showed a large blond boy riding his first bicycle, on a carousel at the fair, playing a computer game with his father, being hugged and kissed by his mother. The room held no sign at all that another boy lived in the house, too.\n",
    "\n",
    "data=\"Nearly ten years had passed since the Dursleys had woken up to find their nephew on the front step, but Privet Drive had hardly changed at all. The sun rose on the same tidy front gardens and lit up the brass number four on the Dursleys front door; it crept into their living room, which was almost exactly the same as it had been on the night when Mr. Dursley had seen that fateful news report about the owls. Only the photographs on the mantelpiece really showed how much time had passed. Ten years ago, there had been lots of pictures of what looked like a large pink beach ball wearing different-colored bonnets -- but Dudley Dursley was no longer a baby, and now the photographs showed a large blond boy riding his first bicycle, on a carousel at the fair, playing a computer game with his father, being hugged and kissed by his mother. The room held no sign at all that another boy lived in the house, too.\"\n",
    "data=data[275:275+275]\n",
    "data"
   ]
  },
  {
   "cell_type": "code",
   "execution_count": 6,
   "id": "f67cc623",
   "metadata": {},
   "outputs": [
    {
     "data": {
      "text/plain": [
       "' hrdly chngd t ll. Th sn rs '"
      ]
     },
     "execution_count": 6,
     "metadata": {},
     "output_type": "execute_result"
    }
   ],
   "source": [
    "# 4. Find the substring of 37 characters that begins at the 120-th character (index of 120) from the string below. \n",
    "# Vowels are \"aeiouAEIOU\". Find a new string that has all characters except vowels from the substring.\n",
    "# data:\n",
    "# Nearly ten years had passed since the Dursleys had woken up to find their nephew on the front step, but Privet Drive had hardly changed at all. The sun rose on the same tidy front gardens and lit up the brass number four on the Dursleys front door; it crept into their living room, which was almost exactly the same as it had been on the night when Mr. Dursley had seen that fateful news report about the owls. Only the photographs on the mantelpiece really showed how much time had passed. Ten years ago, there had been lots of pictures of what looked like a large pink beach ball wearing different-colored bonnets -- but Dudley Dursley was no longer a baby, and now the photographs showed a large blond boy riding his first bicycle, on a carousel at the fair, playing a computer game with his father, being hugged and kissed by his mother. The room held no sign at all that another boy lived in the house, too.\n",
    "\n",
    "data=\"Nearly ten years had passed since the Dursleys had woken up to find their nephew on the front step, but Privet Drive had hardly changed at all. The sun rose on the same tidy front gardens and lit up the brass number four on the Dursleys front door; it crept into their living room, which was almost exactly the same as it had been on the night when Mr. Dursley had seen that fateful news report about the owls. Only the photographs on the mantelpiece really showed how much time had passed. Ten years ago, there had been lots of pictures of what looked like a large pink beach ball wearing different-colored bonnets -- but Dudley Dursley was no longer a baby, and now the photographs showed a large blond boy riding his first bicycle, on a carousel at the fair, playing a computer game with his father, being hugged and kissed by his mother. The room held no sign at all that another boy lived in the house, too.\"\n",
    "a=\"aeiouAEIOU\"\n",
    "data=data[120:120+37]\n",
    "for i in a:\n",
    "    data=data.replace(i,\"\")\n",
    "data"
   ]
  },
  {
   "cell_type": "code",
   "execution_count": 7,
   "id": "b422eea1",
   "metadata": {},
   "outputs": [
    {
     "name": "stdout",
     "output_type": "stream",
     "text": [
      "sfnptO\n"
     ]
    }
   ],
   "source": [
    "# 5. Concatenate the strings \" is fun \" and \"pythOn\" and multiply 30 to the previous string to make a long string.\n",
    "# Make a new string consisting of only characters that locates at even indices of the long string. \n",
    "# Find the (-15)-th word.\n",
    "\n",
    "str=(\" is fun \"+\"pythOn\")*30\n",
    "str=str[::2]\n",
    "str=str.split(\" \")\n",
    "print(str[-15])"
   ]
  },
  {
   "cell_type": "code",
   "execution_count": 8,
   "id": "633e5398",
   "metadata": {},
   "outputs": [
    {
     "data": {
      "text/plain": [
       "'but Privet Drive had hardly changed at all. The sun rose on the same tidy front gardens and lit up the brass number four on the Dursleys front door; it crept into their living room, which was almost exactly the same as it had'"
      ]
     },
     "execution_count": 8,
     "metadata": {},
     "output_type": "execute_result"
    }
   ],
   "source": [
    "# 6. Find the substring of 225 characters that begin at the 100-th character (index of 100) from the string below.\n",
    "# data:\n",
    "# Nearly ten years had passed since the Dursleys had woken up to find their nephew on the front step, but Privet Drive had hardly changed at all. The sun rose on the same tidy front gardens and lit up the brass number four on the Dursleys front door; it crept into their living room, which was almost exactly the same as it had been on the night when Mr. Dursley had seen that fateful news report about the owls. Only the photographs on the mantelpiece really showed how much time had passed. Ten years ago, there had been lots of pictures of what looked like a large pink beach ball wearing different-colored bonnets -- but Dudley Dursley was no longer a baby, and now the photographs showed a large blond boy riding his first bicycle, on a carousel at the fair, playing a computer game with his father, being hugged and kissed by his mother. The room held no sign at all that another boy lived in the house, too.\n",
    "\n",
    "data=\"Nearly ten years had passed since the Dursleys had woken up to find their nephew on the front step, but Privet Drive had hardly changed at all. The sun rose on the same tidy front gardens and lit up the brass number four on the Dursleys front door; it crept into their living room, which was almost exactly the same as it had been on the night when Mr. Dursley had seen that fateful news report about the owls. Only the photographs on the mantelpiece really showed how much time had passed. Ten years ago, there had been lots of pictures of what looked like a large pink beach ball wearing different-colored bonnets -- but Dudley Dursley was no longer a baby, and now the photographs showed a large blond boy riding his first bicycle, on a carousel at the fair, playing a computer game with his father, being hugged and kissed by his mother. The room held no sign at all that another boy lived in the house, too.\"\n",
    "data=data[100:100+225]\n",
    "data"
   ]
  },
  {
   "cell_type": "code",
   "execution_count": 10,
   "id": "c8265525",
   "metadata": {},
   "outputs": [
    {
     "data": {
      "text/plain": [
       "13"
      ]
     },
     "execution_count": 10,
     "metadata": {},
     "output_type": "execute_result"
    }
   ],
   "source": [
    "# 7. Consider a substring of 290 characters that begins at the 110-th character (index of 110) from the string below. \n",
    "# Find the number of words that contains the alphabet \"o\".\n",
    "# data:\n",
    "# Nearly ten years had passed since the Dursleys had woken up to find their nephew on the front step, but Privet Drive had hardly changed at all. The sun rose on the same tidy front gardens and lit up the brass number four on the Dursleys front door; it crept into their living room, which was almost exactly the same as it had been on the night when Mr. Dursley had seen that fateful news report about the owls. Only the photographs on the mantelpiece really showed how much time had passed. Ten years ago, there had been lots of pictures of what looked like a large pink beach ball wearing different-colored bonnets -- but Dudley Dursley was no longer a baby, and now the photographs showed a large blond boy riding his first bicycle, on a carousel at the fair, playing a computer game with his father, being hugged and kissed by his mother. The room held no sign at all that another boy lived in the house, too.\n",
    "\n",
    "data=\"Nearly ten years had passed since the Dursleys had woken up to find their nephew on the front step, but Privet Drive had hardly changed at all. The sun rose on the same tidy front gardens and lit up the brass number four on the Dursleys front door; it crept into their living room, which was almost exactly the same as it had been on the night when Mr. Dursley had seen that fateful news report about the owls. Only the photographs on the mantelpiece really showed how much time had passed. Ten years ago, there had been lots of pictures of what looked like a large pink beach ball wearing different-colored bonnets -- but Dudley Dursley was no longer a baby, and now the photographs showed a large blond boy riding his first bicycle, on a carousel at the fair, playing a computer game with his father, being hugged and kissed by his mother. The room held no sign at all that another boy lived in the house, too.\"\n",
    "data=data[110:110+290]\n",
    "data=data.split(\" \")\n",
    "count=0\n",
    "for i in data:\n",
    "    if 'o' in i:\n",
    "        count+=1\n",
    "count"
   ]
  },
  {
   "cell_type": "code",
   "execution_count": 12,
   "id": "b23cc0bb",
   "metadata": {},
   "outputs": [
    {
     "data": {
      "text/plain": [
       "'grapegrapegrapegrape'"
      ]
     },
     "execution_count": 12,
     "metadata": {},
     "output_type": "execute_result"
    }
   ],
   "source": [
    "#8. Find the string value associated with the variable x after running the code below:\n",
    "x=\"grape\" * len(\"pear\")\n",
    "x"
   ]
  },
  {
   "cell_type": "code",
   "execution_count": 13,
   "id": "e1d3539c",
   "metadata": {},
   "outputs": [
    {
     "name": "stdout",
     "output_type": "stream",
     "text": [
      "F\n"
     ]
    }
   ],
   "source": [
    "# 9. Concatenate the strings \"pythOn\" and \" is fUn \" and multiply 14 to the previous string to make a long string. \n",
    "# Remove whitespaces from the string and swap the case, upper to lower and vice versa. \n",
    "# Example: isFun --> ISfUN. Find the -14-th character.\n",
    "\n",
    "str_1=\"pythOn\"\n",
    "str_2=\" is fUn \" \n",
    "str=(str_1+str_2)*14\n",
    "str=str.replace(\" \",\"\")\n",
    "if str[-14].isupper()==True:\n",
    "    print(str[-14].lower())\n",
    "else:\n",
    "    print(str[-14].upper())\n"
   ]
  },
  {
   "cell_type": "code",
   "execution_count": 21,
   "id": "1d644692",
   "metadata": {},
   "outputs": [
    {
     "name": "stdout",
     "output_type": "stream",
     "text": [
      "True\n"
     ]
    }
   ],
   "source": [
    "# 10. Concatenate the strings \"iS fun\" and \"pYthon\" and multiply 17 to the previous string to make a long string. \n",
    "# Make a new string consisting of only characters that locates at even indices of the long string. \n",
    "# Remove all existing whitespaces from the last string and \n",
    "# check if the -17-th character is lowercase, answer True if it is lowercase, False otherwise.\n",
    "\n",
    "str=(\"iS fun\" +\"pYthon\" )*17\n",
    "str=str[::2]\n",
    "str=str.replace(\" \",\"\")\n",
    "if str[-17].islower()==True:\n",
    "    print(True)\n",
    "else:\n",
    "    print(False)"
   ]
  },
  {
   "cell_type": "code",
   "execution_count": 23,
   "id": "6ce4565d",
   "metadata": {},
   "outputs": [
    {
     "name": "stdout",
     "output_type": "stream",
     "text": [
      "None\n"
     ]
    }
   ],
   "source": [
    "#11. Concatenate the strings \"is Fun\" and \"pytHon\" and multiply 17 to the previous string to make a long string. \n",
    "#Make a new string consisting of only characters that locates at even indices of the long string. \n",
    "#Check if the -17-th character is lowercase, answer True if it is lowercase, False otherwise. \n",
    "#Do not forget that whitespace is also a character that is neither uppercase nor lowercase.\n",
    "\n",
    "str=(\"is Fun\" +\"pytHon\" )*17\n",
    "str=str[::2]\n",
    "if str[-17].islower():\n",
    "    print(True)\n",
    "elif str[-17].isupper():\n",
    "    print(False)\n",
    "else:\n",
    "    print(None)\n"
   ]
  },
  {
   "cell_type": "code",
   "execution_count": 26,
   "id": "e2b5ff89",
   "metadata": {},
   "outputs": [
    {
     "data": {
      "text/plain": [
       "11"
      ]
     },
     "execution_count": 26,
     "metadata": {},
     "output_type": "execute_result"
    }
   ],
   "source": [
    "# 12. Find the number of alphabet \"i\" used in the substring of 320 characters that begins at the 190-th character (index of 190) from the string below.\n",
    "# data:\n",
    "# Nearly ten years had passed since the Dursleys had woken up to find their nephew on the front step, but Privet Drive had hardly changed at all. The sun rose on the same tidy front gardens and lit up the brass number four on the Dursleys front door; it crept into their living room, which was almost exactly the same as it had been on the night when Mr. Dursley had seen that fateful news report about the owls. Only the photographs on the mantelpiece really showed how much time had passed. Ten years ago, there had been lots of pictures of what looked like a large pink beach ball wearing different-colored bonnets -- but Dudley Dursley was no longer a baby, and now the photographs showed a large blond boy riding his first bicycle, on a carousel at the fair, playing a computer game with his father, being hugged and kissed by his mother. The room held no sign at all that another boy lived in the house, too.\n",
    "\n",
    "data=\"Nearly ten years had passed since the Dursleys had woken up to find their nephew on the front step, but Privet Drive had hardly changed at all. The sun rose on the same tidy front gardens and lit up the brass number four on the Dursleys front door; it crept into their living room, which was almost exactly the same as it had been on the night when Mr. Dursley had seen that fateful news report about the owls. Only the photographs on the mantelpiece really showed how much time had passed. Ten years ago, there had been lots of pictures of what looked like a large pink beach ball wearing different-colored bonnets -- but Dudley Dursley was no longer a baby, and now the photographs showed a large blond boy riding his first bicycle, on a carousel at the fair, playing a computer game with his father, being hugged and kissed by his mother. The room held no sign at all that another boy lived in the house, too.\"\n",
    "data=data[190:190+300]\n",
    "count=data.count('i')\n",
    "count"
   ]
  },
  {
   "cell_type": "code",
   "execution_count": 27,
   "id": "bed3e94c",
   "metadata": {},
   "outputs": [
    {
     "data": {
      "text/plain": [
       "'p iS fun y iS fun t iS fun h iS fun O iS fun n iS fun '"
      ]
     },
     "execution_count": 27,
     "metadata": {},
     "output_type": "execute_result"
    }
   ],
   "source": [
    "#13. Convert the string \"pythOn\" to a list of characters and use the string \" iS fun \" to join the characters to make a long string. \n",
    "#Example: [\"a\", \"p\", \"r\"] -> \"a..p..r\" with a string of \"..\".\n",
    "\n",
    "str=\"pythOn\" \n",
    "new_str=\"\"\n",
    "add=\" iS fun \" \n",
    "\n",
    "for i in str:\n",
    "    new_str+=i\n",
    "    new_str+=add\n",
    "\n",
    "new_str"
   ]
  },
  {
   "cell_type": "code",
   "execution_count": 28,
   "id": "78906fe8",
   "metadata": {},
   "outputs": [
    {
     "data": {
      "text/plain": [
       "3789"
      ]
     },
     "execution_count": 28,
     "metadata": {},
     "output_type": "execute_result"
    }
   ],
   "source": [
    "# 14. Consider a substring of 40 characters that begins at the 200-th character (index of 200) from the string below. \n",
    "#Find the sum of the unicode values of every characters in the substring.\n",
    "# data:\n",
    "# Nearly ten years had passed since the Dursleys had woken up to find their nephew on the front step, but Privet Drive had hardly changed at all. The sun rose on the same tidy front gardens and lit up the brass number four on the Dursleys front door; it crept into their living room, which was almost exactly the same as it had been on the night when Mr. Dursley had seen that fateful news report about the owls. Only the photographs on the mantelpiece really showed how much time had passed. Ten years ago, there had been lots of pictures of what looked like a large pink beach ball wearing different-colored bonnets -- but Dudley Dursley was no longer a baby, and now the photographs showed a large blond boy riding his first bicycle, on a carousel at the fair, playing a computer game with his father, being hugged and kissed by his mother. The room held no sign at all that another boy lived in the house, too.\n",
    "\n",
    "data=\"Nearly ten years had passed since the Dursleys had woken up to find their nephew on the front step, but Privet Drive had hardly changed at all. The sun rose on the same tidy front gardens and lit up the brass number four on the Dursleys front door; it crept into their living room, which was almost exactly the same as it had been on the night when Mr. Dursley had seen that fateful news report about the owls. Only the photographs on the mantelpiece really showed how much time had passed. Ten years ago, there had been lots of pictures of what looked like a large pink beach ball wearing different-colored bonnets -- but Dudley Dursley was no longer a baby, and now the photographs showed a large blond boy riding his first bicycle, on a carousel at the fair, playing a computer game with his father, being hugged and kissed by his mother. The room held no sign at all that another boy lived in the house, too.\"\n",
    "data=data[200:200+40]\n",
    "sum=0\n",
    "for i in data:\n",
    "    sum+=ord(i)\n",
    "\n",
    "sum"
   ]
  },
  {
   "cell_type": "code",
   "execution_count": 29,
   "id": "e1f5ed99",
   "metadata": {},
   "outputs": [
    {
     "data": {
      "text/plain": [
       "'t'"
      ]
     },
     "execution_count": 29,
     "metadata": {},
     "output_type": "execute_result"
    }
   ],
   "source": [
    "# 15. Consider a substring of 30 characters that begins at the 250-th character (index of 250) from the string below. \n",
    "#Find the most used alphabet in the substring. Find alphabet only, not any character.\n",
    "# data:\n",
    "# Nearly ten years had passed since the Dursleys had woken up to find their nephew on the front step, but Privet Drive had hardly changed at all. The sun rose on the same tidy front gardens and lit up the brass number four on the Dursleys front door; it crept into their living room, which was almost exactly the same as it had been on the night when Mr. Dursley had seen that fateful news report about the owls. Only the photographs on the mantelpiece really showed how much time had passed. Ten years ago, there had been lots of pictures of what looked like a large pink beach ball wearing different-colored bonnets -- but Dudley Dursley was no longer a baby, and now the photographs showed a large blond boy riding his first bicycle, on a carousel at the fair, playing a computer game with his father, being hugged and kissed by his mother. The room held no sign at all that another boy lived in the house, too.\n",
    "\n",
    "data=\"Nearly ten years had passed since the Dursleys had woken up to find their nephew on the front step, but Privet Drive had hardly changed at all. The sun rose on the same tidy front gardens and lit up the brass number four on the Dursleys front door; it crept into their living room, which was almost exactly the same as it had been on the night when Mr. Dursley had seen that fateful news report about the owls. Only the photographs on the mantelpiece really showed how much time had passed. Ten years ago, there had been lots of pictures of what looked like a large pink beach ball wearing different-colored bonnets -- but Dudley Dursley was no longer a baby, and now the photographs showed a large blond boy riding his first bicycle, on a carousel at the fair, playing a computer game with his father, being hugged and kissed by his mother. The room held no sign at all that another boy lived in the house, too.\"\n",
    "alphabets=[]\n",
    "data=data[250:250+30]\n",
    "data=data.replace(\" \",\"\")\n",
    "max_count=0\n",
    "for i in data:\n",
    "    if data not in alphabets:\n",
    "        alphabets.append(i)\n",
    "for i in alphabets:\n",
    "    if alphabets.count(i)>max_count:\n",
    "        max_count=alphabets.count(i)\n",
    "        alphabet=i\n",
    "alphabet"
   ]
  }
 ],
 "metadata": {
  "kernelspec": {
   "display_name": "Python 3",
   "language": "python",
   "name": "python3"
  },
  "language_info": {
   "codemirror_mode": {
    "name": "ipython",
    "version": 3
   },
   "file_extension": ".py",
   "mimetype": "text/x-python",
   "name": "python",
   "nbconvert_exporter": "python",
   "pygments_lexer": "ipython3",
   "version": "3.8.8"
  }
 },
 "nbformat": 4,
 "nbformat_minor": 5
}
