{
 "cells": [
  {
   "cell_type": "code",
   "execution_count": null,
   "id": "36142df3",
   "metadata": {},
   "outputs": [],
   "source": []
  },
  {
   "cell_type": "code",
   "execution_count": 1,
   "id": "3691ba92",
   "metadata": {},
   "outputs": [
    {
     "data": {
      "text/plain": [
       "['you',\n",
       " 'up',\n",
       " 'people',\n",
       " 'even',\n",
       " 'need',\n",
       " 'during',\n",
       " 'government',\n",
       " 'today',\n",
       " 'young',\n",
       " 'game']"
      ]
     },
     "execution_count": 1,
     "metadata": {},
     "output_type": "execute_result"
    }
   ],
   "source": [
    "#1. Find 10 words in a word chain starting with the word provided below. A word chain is a list of words in which a word begins with a letter with which the previous word ends. Duplicates are not allowed. \n",
    "#The list of words are the 1000 Most Common Words in English .\n",
    "\n",
    "Ewords=[line.split('–')[0].strip() for line in open('Ewords.txt', 'r', encoding='UTF8').readlines()]\n",
    "word_selected = 'day'\n",
    "chain=[]\n",
    "while True:\n",
    "    for i in Ewords:\n",
    "        if i.startswith(word_selected[-1]):\n",
    "            if i in chain:\n",
    "                pass\n",
    "            elif len(chain)!=10:\n",
    "                chain.append(i)\n",
    "                word_selected=i\n",
    "            else:\n",
    "                break\n",
    "    break\n",
    "    \n",
    "chain"
   ]
  },
  {
   "cell_type": "code",
   "execution_count": 2,
   "id": "fbfcc177",
   "metadata": {},
   "outputs": [
    {
     "name": "stdout",
     "output_type": "stream",
     "text": [
      "19\n"
     ]
    }
   ],
   "source": [
    "#4. Find the total number of different characters of the 14 words started from the index 150 word in the words list. \n",
    "# The list of words are the 1000 Most Common Words in English .\n",
    "\n",
    "words=Ewords[150:150+14]\n",
    "alpha=[]\n",
    "for i in words:\n",
    "    for j in i:\n",
    "        if j not in alpha:\n",
    "            alpha.append(j)\n",
    "print(len(alpha))"
   ]
  },
  {
   "cell_type": "code",
   "execution_count": 3,
   "id": "fe71cc6e",
   "metadata": {},
   "outputs": [
    {
     "name": "stdout",
     "output_type": "stream",
     "text": [
      "113\n"
     ]
    }
   ],
   "source": [
    "#5. Find the number of words with 7 letters. The list of words are the 1000 Most Common Words in English .\n",
    "\n",
    "count=0\n",
    "for i in Ewords:\n",
    "    if len(i)==7:\n",
    "        count+=1\n",
    "print(count)\n"
   ]
  },
  {
   "cell_type": "code",
   "execution_count": 5,
   "id": "181eed9b",
   "metadata": {},
   "outputs": [
    {
     "name": "stdout",
     "output_type": "stream",
     "text": [
      "66\n"
     ]
    }
   ],
   "source": [
    "#6. Find the number of words with 8 letters. Duplicates are not allowed. The list of words are the 1000 Most Common Words in English .\n",
    "chain=[]\n",
    "for i in Ewords:\n",
    "    if len(i)==8:\n",
    "        if i not in chain:\n",
    "            chain.append(i)\n",
    "print(len(chain))"
   ]
  },
  {
   "cell_type": "code",
   "execution_count": 6,
   "id": "bce2d2b7",
   "metadata": {},
   "outputs": [
    {
     "name": "stdout",
     "output_type": "stream",
     "text": [
      "120\n"
     ]
    }
   ],
   "source": [
    "#7. Find the total number of characters of the 31 words started from the index 70 word in the words list. The list of words are the 1000 Most Common Words in English .\n",
    "\n",
    "words=Ewords[70:70+31]\n",
    "count=0\n",
    "for i in words:\n",
    "    count+=len(i)\n",
    "print(count)"
   ]
  },
  {
   "cell_type": "code",
   "execution_count": 9,
   "id": "10c22d8c",
   "metadata": {},
   "outputs": [
    {
     "name": "stdout",
     "output_type": "stream",
     "text": [
      "Trade&Tarade\n"
     ]
    }
   ],
   "source": [
    "#8. Find the string in which the string of \"a\" is inserted at the index=7 of string \"Trade&Trade\". \n",
    "#For example, if the string \"x\" is inserted at index=2 of string \"abcde, then the resulting string is \"abxcde\".\n",
    "\n",
    "str=\"Trade&Trade\"\n",
    "new_str=\"\"\n",
    "list=[]\n",
    "for i in range(len(str)):\n",
    "    if i!=7:\n",
    "        list.append(str[i])\n",
    "    elif i==7:\n",
    "        list.append('a'+str[i])\n",
    "for i in list:\n",
    "    new_str+=i\n",
    "print(new_str)\n"
   ]
  },
  {
   "cell_type": "code",
   "execution_count": 10,
   "id": "9c994b4f",
   "metadata": {},
   "outputs": [
    {
     "data": {
      "text/plain": [
       "'matxhatxrat'"
      ]
     },
     "execution_count": 10,
     "metadata": {},
     "output_type": "execute_result"
    }
   ],
   "source": [
    "#9. Find the value of expression below.\n",
    "\n",
    "\"x\".join([\"mat\", \"hat\", \"rat\"])"
   ]
  }
 ],
 "metadata": {
  "kernelspec": {
   "display_name": "Python 3",
   "language": "python",
   "name": "python3"
  },
  "language_info": {
   "codemirror_mode": {
    "name": "ipython",
    "version": 3
   },
   "file_extension": ".py",
   "mimetype": "text/x-python",
   "name": "python",
   "nbconvert_exporter": "python",
   "pygments_lexer": "ipython3",
   "version": "3.8.8"
  }
 },
 "nbformat": 4,
 "nbformat_minor": 5
}
